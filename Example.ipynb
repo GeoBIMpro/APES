{
 "cells": [
  {
   "cell_type": "code",
   "execution_count": 1,
   "metadata": {},
   "outputs": [
    {
     "name": "stdout",
     "output_type": "stream",
     "text": [
      "False\n"
     ]
    }
   ],
   "source": [
    "from APES import *\n",
    "%matplotlib inline\n",
    "import numpy as np\n",
    "import matplotlib.pyplot as plt\n",
    "%matplotlib inline\n",
    "Settings.SetBlockSize(100)"
   ]
  },
  {
   "cell_type": "markdown",
   "metadata": {},
   "source": [
    "# Simple Example"
   ]
  },
  {
   "cell_type": "code",
   "execution_count": 2,
   "metadata": {},
   "outputs": [
    {
     "ename": "OSError",
     "evalue": "file:'/storage/Aqeel/Combiner/APES/Pics/blue.jpg' not found",
     "output_type": "error",
     "traceback": [
      "\u001b[0;31m---------------------------------------------------------------------------\u001b[0m",
      "\u001b[0;31mOSError\u001b[0m                                   Traceback (most recent call last)",
      "\u001b[0;32m<ipython-input-2-3f79df53f5bc>\u001b[0m in \u001b[0;36m<module>\u001b[0;34m()\u001b[0m\n\u001b[1;32m      1\u001b[0m \u001b[0mperf\u001b[0m \u001b[0;34m=\u001b[0m \u001b[0;34m{\u001b[0m\u001b[0;34m'sub'\u001b[0m\u001b[0;34m:\u001b[0m\u001b[0;34m(\u001b[0m\u001b[0;36m2\u001b[0m\u001b[0;34m,\u001b[0m\u001b[0;36m1\u001b[0m\u001b[0;34m)\u001b[0m\u001b[0;34m,\u001b[0m\u001b[0;34m'dom'\u001b[0m\u001b[0;34m:\u001b[0m\u001b[0;34m(\u001b[0m\u001b[0;36m7\u001b[0m\u001b[0;34m,\u001b[0m\u001b[0;36m4\u001b[0m\u001b[0;34m)\u001b[0m\u001b[0;34m,\u001b[0m\u001b[0;34m'food'\u001b[0m\u001b[0;34m:\u001b[0m\u001b[0;34m(\u001b[0m\u001b[0;36m3\u001b[0m\u001b[0;34m,\u001b[0m\u001b[0;36m4\u001b[0m\u001b[0;34m)\u001b[0m\u001b[0;34m,\u001b[0m\u001b[0;34m'obs'\u001b[0m\u001b[0;34m:\u001b[0m\u001b[0;34m(\u001b[0m\u001b[0;36m3\u001b[0m\u001b[0;34m,\u001b[0m\u001b[0;36m5\u001b[0m\u001b[0;34m)\u001b[0m\u001b[0;34m,\u001b[0m\u001b[0;34m'subdir'\u001b[0m\u001b[0;34m:\u001b[0m\u001b[0;34m'E'\u001b[0m\u001b[0;34m,\u001b[0m\u001b[0;34m'domdir'\u001b[0m\u001b[0;34m:\u001b[0m\u001b[0;34m'N'\u001b[0m\u001b[0;34m,\u001b[0m\u001b[0;34m'mesg'\u001b[0m\u001b[0;34m:\u001b[0m\u001b[0;34m'example'\u001b[0m\u001b[0;34m}\u001b[0m\u001b[0;34m\u001b[0m\u001b[0m\n\u001b[0;32m----> 2\u001b[0;31m \u001b[0mgame\u001b[0m \u001b[0;34m=\u001b[0m \u001b[0mCreateEnvironment\u001b[0m\u001b[0;34m(\u001b[0m\u001b[0mperf\u001b[0m\u001b[0;34m)\u001b[0m\u001b[0;34m\u001b[0m\u001b[0m\n\u001b[0m",
      "\u001b[0;32m/storage/Aqeel/Combiner/APES/APES/Environments.py\u001b[0m in \u001b[0;36mCreateEnvironment\u001b[0;34m(preference, ActionMemory, max_timesteps, rwrdschem, svision)\u001b[0m\n\u001b[1;32m     16\u001b[0m     \u001b[0;31m#Add Pictures\u001b[0m\u001b[0;34m\u001b[0m\u001b[0;34m\u001b[0m\u001b[0m\n\u001b[1;32m     17\u001b[0m     \u001b[0mSettings\u001b[0m\u001b[0;34m.\u001b[0m\u001b[0mSetBlockSize\u001b[0m\u001b[0;34m(\u001b[0m\u001b[0;36m100\u001b[0m\u001b[0;34m)\u001b[0m\u001b[0;34m\u001b[0m\u001b[0m\n\u001b[0;32m---> 18\u001b[0;31m     \u001b[0mSettings\u001b[0m\u001b[0;34m.\u001b[0m\u001b[0mAddImage\u001b[0m\u001b[0;34m(\u001b[0m\u001b[0;34m'Wall'\u001b[0m\u001b[0;34m,\u001b[0m\u001b[0mos\u001b[0m\u001b[0;34m.\u001b[0m\u001b[0mpath\u001b[0m\u001b[0;34m.\u001b[0m\u001b[0mabspath\u001b[0m\u001b[0;34m(\u001b[0m\u001b[0;34m\"Pics/blue.jpg\"\u001b[0m\u001b[0;34m)\u001b[0m\u001b[0;34m)\u001b[0m\u001b[0;31m#'Pics/wall.jpg')\u001b[0m\u001b[0;34m\u001b[0m\u001b[0m\n\u001b[0m\u001b[1;32m     19\u001b[0m     \u001b[0mSettings\u001b[0m\u001b[0;34m.\u001b[0m\u001b[0mAddImage\u001b[0m\u001b[0;34m(\u001b[0m\u001b[0;34m'Food'\u001b[0m\u001b[0;34m,\u001b[0m\u001b[0;34m'Pics/food.jpg'\u001b[0m\u001b[0;34m)\u001b[0m\u001b[0;34m\u001b[0m\u001b[0m\n\u001b[1;32m     20\u001b[0m \u001b[0;34m\u001b[0m\u001b[0m\n",
      "\u001b[0;32m/storage/Aqeel/Combiner/APES/APES/Settings.py\u001b[0m in \u001b[0;36mAddImage\u001b[0;34m(Key, Fname)\u001b[0m\n\u001b[1;32m    113\u001b[0m         \"\"\"\n\u001b[1;32m    114\u001b[0m         \u001b[0;32mif\u001b[0m \u001b[0;32mnot\u001b[0m \u001b[0mos\u001b[0m\u001b[0;34m.\u001b[0m\u001b[0mpath\u001b[0m\u001b[0;34m.\u001b[0m\u001b[0misfile\u001b[0m\u001b[0;34m(\u001b[0m\u001b[0mFname\u001b[0m\u001b[0;34m)\u001b[0m\u001b[0;34m:\u001b[0m\u001b[0;34m\u001b[0m\u001b[0m\n\u001b[0;32m--> 115\u001b[0;31m             \u001b[0;32mraise\u001b[0m \u001b[0mIOError\u001b[0m\u001b[0;34m(\u001b[0m\u001b[0;34m'file:\\'{}\\' not found'\u001b[0m\u001b[0;34m.\u001b[0m\u001b[0mformat\u001b[0m\u001b[0;34m(\u001b[0m\u001b[0mFname\u001b[0m\u001b[0;34m)\u001b[0m\u001b[0;34m)\u001b[0m\u001b[0;34m\u001b[0m\u001b[0m\n\u001b[0m\u001b[1;32m    116\u001b[0m         \u001b[0mSettings\u001b[0m\u001b[0;34m.\u001b[0m\u001b[0mImages\u001b[0m\u001b[0;34m[\u001b[0m\u001b[0mKey\u001b[0m\u001b[0;34m]\u001b[0m \u001b[0;34m=\u001b[0m \u001b[0mSettings\u001b[0m\u001b[0;34m.\u001b[0m\u001b[0mImageViewer\u001b[0m\u001b[0;34m(\u001b[0m\u001b[0mtransform\u001b[0m\u001b[0;34m.\u001b[0m\u001b[0mresize\u001b[0m\u001b[0;34m(\u001b[0m\u001b[0mio\u001b[0m\u001b[0;34m.\u001b[0m\u001b[0mimread\u001b[0m\u001b[0;34m(\u001b[0m\u001b[0mFname\u001b[0m\u001b[0;34m)\u001b[0m\u001b[0;34m,\u001b[0m\u001b[0mSettings\u001b[0m\u001b[0;34m.\u001b[0m\u001b[0mBlockSize\u001b[0m\u001b[0;34m,\u001b[0m\u001b[0mmode\u001b[0m\u001b[0;34m=\u001b[0m\u001b[0;34m'constant'\u001b[0m\u001b[0;34m)\u001b[0m\u001b[0;34m)\u001b[0m\u001b[0;34m\u001b[0m\u001b[0m\n\u001b[1;32m    117\u001b[0m     \u001b[0;34m@\u001b[0m\u001b[0mstaticmethod\u001b[0m\u001b[0;34m\u001b[0m\u001b[0m\n",
      "\u001b[0;31mOSError\u001b[0m: file:'/storage/Aqeel/Combiner/APES/Pics/blue.jpg' not found"
     ]
    }
   ],
   "source": [
    "perf = {'sub':(2,1),'dom':(7,4),'food':(3,4),'obs':(3,5),'subdir':'E','domdir':'N','mesg':'example'}\n",
    "game = CreateEnvironment(perf)"
   ]
  },
  {
   "cell_type": "markdown",
   "metadata": {},
   "source": [
    "# Complex Example that open more options."
   ]
  },
  {
   "cell_type": "code",
   "execution_count": null,
   "metadata": {
    "scrolled": false
   },
   "outputs": [],
   "source": [
    "#Add pictures for items\n",
    "Settings.AddImage('Wall','APES/Pics/wall.jpg')\n",
    "Settings.AddImage('Food','APES/Pics/food.jpg')\n",
    "\n",
    "#Create Probability distribution matrices (PDMs)\n",
    "obs = np.zeros(Settings.WorldSize)\n",
    "agnts = np.zeros(Settings.WorldSize)\n",
    "food = np.zeros(Settings.WorldSize)\n",
    "\n",
    "# Obstacles can appear from 3rd to 7th row and 5th column\n",
    "obs[3:8,5] = 1 \n",
    "agnts[2,[0,10]] = 1\n",
    "food[:,4:7] = 1\n",
    "\n",
    "#Add PDMs to Settings\n",
    "Settings.AddProbabilityDistribution('Obs',obs) \n",
    "Settings.AddProbabilityDistribution('agnts',agnts)\n",
    "Settings.AddProbabilityDistribution('food',food)\n",
    "\n",
    "#Create World Elements\n",
    "#Create vertical obastacle with length 4\n",
    "obshape = np.array([[1],[1],[1],[1]]) \n",
    "obs = Obstacles('Wall',Shape=obshape,PdstName='Obs')\n",
    "\n",
    "#Create two agents\n",
    "ragnt = Agent(Fname='APES/Pics/red.jpg',PdstName='agnts')\n",
    "bagnt = Agent(Fname='APES/Pics/blue.jpg',PdstName='agnts')\n",
    "food = Foods('Food',PdstName='food')\n",
    "\n",
    "#Reward food by 10, time step by -0.1\n",
    "game = World(RewardsScheme=[0,10,-0.1])\n",
    "\n",
    "#Adding Agents in Order of Following the action\n",
    "game.AddAgents([ragnt,bagnt])\n",
    "game.AddObstacles([obs])\n",
    "game.AddFoods([food])\n",
    "\n",
    "#Execute at the beginning of every episode\n",
    "game.GenerateWorld()\n",
    "game.Step()\n",
    "env_initial = game.BuildImage()\n",
    "\n",
    "#Execute every time step\n",
    "bagnt.NextAction = Settings.PossibleActions[3]\n",
    "ragnt.NextAction = Settings.PossibleActions[2]\n",
    "game.Step()\n",
    "\n",
    "env_1step = game.BuildImage()\n",
    "\n",
    "fig,ax = plt.subplots(nrows=1,ncols=2)\n",
    "ax[0].imshow(env_initial)\n",
    "ax[1].imshow(env_1step)\n",
    "fig.set_figheight(15)\n",
    "fig.set_figwidth(15)\n",
    "plt.show()"
   ]
  },
  {
   "cell_type": "code",
   "execution_count": null,
   "metadata": {},
   "outputs": [],
   "source": []
  }
 ],
 "metadata": {
  "anaconda-cloud": {},
  "kernelspec": {
   "display_name": "Python 3",
   "language": "python",
   "name": "python3"
  },
  "language_info": {
   "codemirror_mode": {
    "name": "ipython",
    "version": 3
   },
   "file_extension": ".py",
   "mimetype": "text/x-python",
   "name": "python",
   "nbconvert_exporter": "python",
   "pygments_lexer": "ipython3",
   "version": "3.6.5"
  }
 },
 "nbformat": 4,
 "nbformat_minor": 2
}
